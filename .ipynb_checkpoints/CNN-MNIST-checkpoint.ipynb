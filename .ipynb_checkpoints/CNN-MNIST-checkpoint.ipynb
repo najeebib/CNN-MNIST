{
 "cells": [
  {
   "cell_type": "code",
   "execution_count": 1,
   "id": "ba810bea-8419-4588-b008-b3a116d2462d",
   "metadata": {},
   "outputs": [],
   "source": [
    "import torch\n",
    "import torch.nn as nn\n",
    "import torchvision.datasets as datasets\n",
    "import torchvision.transforms as transforms"
   ]
  },
  {
   "cell_type": "code",
   "execution_count": null,
   "id": "9414f6bb-8168-47fd-a9e9-b580382ea634",
   "metadata": {},
   "outputs": [],
   "source": [
    "mean_gray = 0.1307\n",
    "stddev_gray = 0.3081\n",
    "\n",
    "transforms = transforms.Composeose([transforms.ToTensor(),transforms.Normalize((mean_gray),(stddev_gray))])\n",
    "\n",
    "train_dataset = datasets.mnist(root='./data',train=True,transform=transforms,download=True)\n",
    "test_dataset = datasets.MNIST(root='./data',train=False,transform=transforms))"
   ]
  }
 ],
 "metadata": {
  "kernelspec": {
   "display_name": "Python 3",
   "language": "python",
   "name": "python3"
  },
  "language_info": {
   "codemirror_mode": {
    "name": "ipython",
    "version": 3
   },
   "file_extension": ".py",
   "mimetype": "text/x-python",
   "name": "python",
   "nbconvert_exporter": "python",
   "pygments_lexer": "ipython3",
   "version": "3.10.10"
  }
 },
 "nbformat": 4,
 "nbformat_minor": 5
}
